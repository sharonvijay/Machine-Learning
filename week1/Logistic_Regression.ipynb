{
  "nbformat": 4,
  "nbformat_minor": 0,
  "metadata": {
    "colab": {
      "provenance": []
    },
    "kernelspec": {
      "name": "python3",
      "display_name": "Python 3"
    },
    "language_info": {
      "name": "python"
    }
  },
  "cells": [
    {
      "cell_type": "markdown",
      "source": [
        "\n",
        "\n",
        "**Logistic Regression**"
      ],
      "metadata": {
        "id": "e_-rbVbRWyub"
      }
    },
    {
      "cell_type": "markdown",
      "source": [
        "**Logistic regression** is used for classification using a linear decision boundary. Logistic regression works by first looking for linear decision boundaries between the samples of different classes. Then the logistic function\n",
        "![image.png](data:image/png;base64,iVBORw0KGgoAAAANSUhEUgAAAB4AAAAYCAYAAADtaU2/AAAAAXNSR0IArs4c6QAAAARnQU1BAACxjwv8YQUAAAAJcEhZcwAADsMAAA7DAcdvqGQAAAJ1SURBVEhL7ZYxaBNhFMf/WsEieKFDnHLUxEzXqYMpKR0SHFKlDqJ0kQ4Rh4aKGYKNQ2koSAsFN8cQSrOYWpBUKekgiSLNIMSgpBC8SMkFCgm0NKAkYPl8Z77gXRqS9oS49Ad33713993/3nv3vbtzjMB/4Dwfe84/CdcLa3g6uwb5J3foULAR8CG8U+d2C2qqDbGfZPMuP4sr3G6Heo3Dy2K73NZgULjGtpcczLvyjY46U3zlZdaZOCtzu4kx4d0Y81qnO0fbZD/BgtYJtprnNsdQjZV0HKmxUUgW7ujEgIRRTw7RjznuaNBGuAr5zSIejI/AZrPpt7th5I6qKOTSgGSHyGd0RoRFAuRMARXuUWkRVrA1exv3XwLjS+vIfohgZpjcvgiy2Syy0YcY6lMgfwacohkXG5O6YrZ4gHwZZW6r6ISr78KYX5cQWAxgcliEYHHB7aITX8s4FAQIl9Sr6qjv0NDXInuQQshtw4hvgx5fT/8F2hXKqGpWlka4gtTrKCq3bsI92LxpBaU8DRYTTA1HV/ovnywPGmEFyial0CnBzD04yGB704ypG04I3EWJg3mM4j5qaQwDLiwkv+P9sudY7Wu/aCeZdKXRCNthv0cx/mjesIr0ygsk7wQw5fwrC4r9yiCQUSqU9JNRKW0BV0WIGmWNsADP4whcn0LwPXuO0KMgkuIC3i5Pwv6ntk0EXBtykrJ8rJbtUVCid8J1XdJkjeDr+XScuoF4qYHoe5zBlnnIknMONkEtsxtqy3TMJWiGHuMfib0E8zso6j1ut6PDh8S4MFGTY8w/HWNFbuspsviTIFv90hprg7M/kJ5xJtwjgN9zu6mlHSybwgAAAABJRU5ErkJggg==)  is used to get the probability of belongingness to each class defined with respect to the decision boundaries. The logistic function is defined as follows:\n",
        "![image.png](data:image/png;base64,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)\n",
        "\n",
        "The output probability of belongingness to a class that can be suitably thresholded to get hard classification.\n",
        "\n",
        "In this tutorial we will demonstrate this with the example of classifying a part of the Iris dataset."
      ],
      "metadata": {
        "id": "dBDUNHhJN4eB"
      }
    },
    {
      "cell_type": "code",
      "source": [
        "import numpy as np\n",
        "from sklearn import linear_model,datasets,tree\n",
        "import matplotlib.pyplot as plt\n",
        "%matplotlib inline"
      ],
      "metadata": {
        "id": "2W22EbCeW9XK"
      },
      "execution_count": null,
      "outputs": []
    },
    {
      "cell_type": "code",
      "source": [
        "iris = datasets.load_iris()\n",
        "X = iris.data[:,:2] #Choosing only the first two input-features\n",
        "Y = iris.target\n",
        "#The first 50 samples are class 0 and the next 50 samples are class 1\n",
        "X = X[:100]\n",
        "Y = Y[:100]\n",
        "number_of_samples = len(Y)\n",
        "#Splitting into training, validation and test sets\n",
        "random_indices = np.random.permutation(number_of_samples)\n",
        "#Training set\n",
        "num_training_samples = int(number_of_samples*0.7)\n",
        "x_train = X[random_indices[:num_training_samples]]\n",
        "y_train = Y[random_indices[:num_training_samples]]\n",
        "#Validation set\n",
        "num_validation_samples = int(number_of_samples*0.15)\n",
        "x_val = X[random_indices[num_training_samples : num_training_samples+num_validation_samples]]\n",
        "y_val = Y[random_indices[num_training_samples: num_training_samples+num_validation_samples]]\n",
        "#Test set\n",
        "num_test_samples = int(number_of_samples*0.15)\n",
        "x_test = X[random_indices[-num_test_samples:]]\n",
        "y_test = Y[random_indices[-num_test_samples:]]\n",
        "\n",
        "#Visualizing the training data\n",
        "X_class0 = np.asarray([x_train[i] for i in range(len(x_train)) if y_train[i]==0]) #Picking only the first two classes\n",
        "Y_class0 = np.zeros((X_class0.shape[0]),dtype=np.int)\n",
        "X_class1 = np.asarray([x_train[i] for i in range(len(x_train)) if y_train[i]==1])\n",
        "Y_class1 = np.ones((X_class1.shape[0]),dtype=np.int)\n",
        "\n",
        "plt.scatter(X_class0[:,0], X_class0[:,1],color='red')\n",
        "plt.scatter(X_class1[:,0], X_class1[:,1],color='blue')\n",
        "plt.xlabel('sepal length')\n",
        "plt.ylabel('sepal width')\n",
        "plt.legend(['class 0','class 1'])\n",
        "plt.title('Fig 3: Visualization of training data')\n",
        "plt.show()"
      ],
      "metadata": {
        "colab": {
          "base_uri": "https://localhost:8080/",
          "height": 384
        },
        "id": "3gkDTi4MW2SX",
        "outputId": "2eab85b0-be79-4081-d72a-4c2e1e518795"
      },
      "execution_count": null,
      "outputs": [
        {
          "output_type": "stream",
          "name": "stderr",
          "text": [
            "/usr/local/lib/python3.7/dist-packages/ipykernel_launcher.py:25: DeprecationWarning: `np.int` is a deprecated alias for the builtin `int`. To silence this warning, use `int` by itself. Doing this will not modify any behavior and is safe. When replacing `np.int`, you may wish to use e.g. `np.int64` or `np.int32` to specify the precision. If you wish to review your current use, check the release note link for additional information.\n",
            "Deprecated in NumPy 1.20; for more details and guidance: https://numpy.org/devdocs/release/1.20.0-notes.html#deprecations\n",
            "/usr/local/lib/python3.7/dist-packages/ipykernel_launcher.py:27: DeprecationWarning: `np.int` is a deprecated alias for the builtin `int`. To silence this warning, use `int` by itself. Doing this will not modify any behavior and is safe. When replacing `np.int`, you may wish to use e.g. `np.int64` or `np.int32` to specify the precision. If you wish to review your current use, check the release note link for additional information.\n",
            "Deprecated in NumPy 1.20; for more details and guidance: https://numpy.org/devdocs/release/1.20.0-notes.html#deprecations\n"
          ]
        },
        {
          "output_type": "display_data",
          "data": {
            "text/plain": [
              "<Figure size 432x288 with 1 Axes>"
            ],
            "image/png": "[encoded data removed]"
          },
          "metadata": {
            "needs_background": "light"
          }
        }
      ]
    },
    {
      "cell_type": "code",
      "source": [
        "model = linear_model.LogisticRegression(C=1e5)#C is the inverse of the regularization factor\n",
        "full_X = np.concatenate((X_class0,X_class1),axis=0)\n",
        "full_Y = np.concatenate((Y_class0,Y_class1),axis=0)\n",
        "model.fit(full_X,full_Y)\n",
        "\n",
        "# Display the decision boundary\n",
        "#(Visualization code taken from: http://scikit-learn.org/stable/auto_examples/linear_model/plot_iris_logistic.html)\n",
        "# Plot the decision boundary. For that, we will assign a color to each\n",
        "# point in the mesh [x_min, m_max]x[y_min, y_max].\n",
        "\n",
        "h = .02  # step size in the mesh\n",
        "x_min, x_max = full_X[:, 0].min() - .5, full_X[:, 0].max() + .5\n",
        "y_min, y_max = full_X[:, 1].min() - .5, full_X[:, 1].max() + .5\n",
        "xx, yy = np.meshgrid(np.arange(x_min, x_max, h), np.arange(y_min, y_max, h))\n",
        "Z = model.predict(np.c_[xx.ravel(), yy.ravel()]) #predict for the entire mesh to find the regions for each class in the feature space\n",
        "\n",
        "# Put the result into a color plot\n",
        "Z = Z.reshape(xx.shape)\n",
        "plt.figure()\n",
        "plt.pcolormesh(xx, yy, Z, cmap=plt.cm.Paired)\n",
        "\n",
        "# Plot also the training points\n",
        "plt.scatter(X_class0[:, 0], X_class0[:, 1], c='red', edgecolors='k', cmap=plt.cm.Paired)\n",
        "plt.scatter(X_class1[:, 0], X_class1[:, 1], c='blue', edgecolors='k', cmap=plt.cm.Paired)\n",
        "plt.xlabel('Sepal length')\n",
        "plt.ylabel('Sepal width')\n",
        "plt.title('Fig 4: Visualization of decision boundary')\n",
        "plt.xlim(xx.min(), xx.max())\n",
        "plt.ylim(yy.min(), yy.max())\n",
        "\n",
        "\n",
        "plt.show()"
      ],
      "metadata": {
        "colab": {
          "base_uri": "https://localhost:8080/",
          "height": 295
        },
        "id": "2ZwKoKXxcPqQ",
        "outputId": "d930240b-febd-49cb-88a4-c05e177068b7"
      },
      "execution_count": null,
      "outputs": [
        {
          "output_type": "display_data",
          "data": {
            "text/plain": [
              "<Figure size 432x288 with 1 Axes>"
            ],
            "image/png": "[encoded data removed]"
          },
          "metadata": {
            "needs_background": "light"
          }
        }
      ]
    },
    {
      "cell_type": "code",
      "source": [
        "validation_set_predictions = [model.predict(x_val[i].reshape((1,2)))[0] for i in range(x_val.shape[0])]\n",
        "validation_misclassification_percentage = 0\n",
        "for i in range(len(validation_set_predictions)):\n",
        "    if validation_set_predictions[i]!=y_val[i]:\n",
        "        validation_misclassification_percentage+=1\n",
        "validation_misclassification_percentage *= 100/len(y_val)\n",
        "print ('validation misclassification percentage =', validation_misclassification_percentage, '%')\n",
        "\n",
        "test_set_predictions = [model.predict(x_test[i].reshape((1,2)))[0] for i in range(x_test.shape[0])]\n",
        "\n",
        "test_misclassification_percentage = 0\n",
        "for i in range(len(test_set_predictions)):\n",
        "    if test_set_predictions[i]!=y_test[i]:\n",
        "        test_misclassification_percentage+=1\n",
        "test_misclassification_percentage *= 100/len(y_test)\n",
        "print ('test misclassification percentage =', test_misclassification_percentage, '%')"
      ],
      "metadata": {
        "colab": {
          "base_uri": "https://localhost:8080/"
        },
        "id": "2JHs9zVtfvnc",
        "outputId": "660af3c4-2454-49c5-d03e-b46203853d96"
      },
      "execution_count": null,
      "outputs": [
        {
          "output_type": "stream",
          "name": "stdout",
          "text": [
            "validation misclassification percentage = 0.0 %\n",
            "test misclassification percentage = 0.0 %\n"
          ]
        }
      ]
    }
  ]
}