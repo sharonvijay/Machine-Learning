{
  "nbformat": 4,
  "nbformat_minor": 0,
  "metadata": {
    "colab": {
      "name": "Logistic Regression.ipynb",
      "provenance": [],
      "authorship_tag": "ABX9TyOrNvRhxd2LE6Fh5lJpM2Tb",
      "include_colab_link": true
    },
    "kernelspec": {
      "name": "python3",
      "display_name": "Python 3"
    },
    "language_info": {
      "name": "python"
    }
  },
  "cells": [
    {
      "cell_type": "markdown",
      "metadata": {
        "id": "view-in-github",
        "colab_type": "text"
      },
      "source": [
        "<a href=\"https://colab.research.google.com/github/sharonvijay/Machine-Learning/blob/main/Logistic_Regression.ipynb\" target=\"_parent\"><img src=\"https://colab.research.google.com/assets/colab-badge.svg\" alt=\"Open In Colab\"/></a>"
      ]
    },
    {
      "cell_type": "markdown",
      "source": [
        "Logistic Regression"
      ],
      "metadata": {
        "id": "e_-rbVbRWyub"
      }
    },
    {
      "cell_type": "code",
      "source": [
        "import numpy as np\n",
        "from sklearn import linear_model,datasets,tree\n",
        "import matplotlib.pyplot as plt\n",
        "%matplotlib inline"
      ],
      "metadata": {
        "id": "2W22EbCeW9XK"
      },
      "execution_count": 2,
      "outputs": []
    },
    {
      "cell_type": "code",
      "source": [
        "iris = datasets.load_iris()\n",
        "X = iris.data[:,:2] #Choosing only the first two input-features\n",
        "Y = iris.target\n",
        "#The first 50 samples are class 0 and the next 50 samples are class 1\n",
        "X = X[:100]\n",
        "Y = Y[:100]\n",
        "number_of_samples = len(Y)\n",
        "#Splitting into training, validation and test sets\n",
        "random_indices = np.random.permutation(number_of_samples)\n",
        "#Training set\n",
        "num_training_samples = int(number_of_samples*0.7)\n",
        "x_train = X[random_indices[:num_training_samples]]\n",
        "y_train = Y[random_indices[:num_training_samples]]\n",
        "#Validation set\n",
        "num_validation_samples = int(number_of_samples*0.15)\n",
        "x_val = X[random_indices[num_training_samples : num_training_samples+num_validation_samples]]\n",
        "y_val = Y[random_indices[num_training_samples: num_training_samples+num_validation_samples]]\n",
        "#Test set\n",
        "num_test_samples = int(number_of_samples*0.15)\n",
        "x_test = X[random_indices[-num_test_samples:]]\n",
        "y_test = Y[random_indices[-num_test_samples:]]\n",
        "\n",
        "#Visualizing the training data\n",
        "X_class0 = np.asarray([x_train[i] for i in range(len(x_train)) if y_train[i]==0]) #Picking only the first two classes\n",
        "Y_class0 = np.zeros((X_class0.shape[0]),dtype=np.int)\n",
        "X_class1 = np.asarray([x_train[i] for i in range(len(x_train)) if y_train[i]==1])\n",
        "Y_class1 = np.ones((X_class1.shape[0]),dtype=np.int)\n",
        "\n",
        "plt.scatter(X_class0[:,0], X_class0[:,1],color='red')\n",
        "plt.scatter(X_class1[:,0], X_class1[:,1],color='blue')\n",
        "plt.xlabel('sepal length')\n",
        "plt.ylabel('sepal width')\n",
        "plt.legend(['class 0','class 1'])\n",
        "plt.title('Fig 3: Visualization of training data')\n",
        "plt.show()"
      ],
      "metadata": {
        "colab": {
          "base_uri": "https://localhost:8080/",
          "height": 384
        },
        "id": "3gkDTi4MW2SX",
        "outputId": "d6bcdbf7-90d5-4b85-eb1a-4615c9761aa8"
      },
      "execution_count": 15,
      "outputs": [
        {
          "output_type": "stream",
          "name": "stderr",
          "text": [
            "/usr/local/lib/python3.7/dist-packages/ipykernel_launcher.py:25: DeprecationWarning: `np.int` is a deprecated alias for the builtin `int`. To silence this warning, use `int` by itself. Doing this will not modify any behavior and is safe. When replacing `np.int`, you may wish to use e.g. `np.int64` or `np.int32` to specify the precision. If you wish to review your current use, check the release note link for additional information.\n",
            "Deprecated in NumPy 1.20; for more details and guidance: https://numpy.org/devdocs/release/1.20.0-notes.html#deprecations\n",
            "/usr/local/lib/python3.7/dist-packages/ipykernel_launcher.py:27: DeprecationWarning: `np.int` is a deprecated alias for the builtin `int`. To silence this warning, use `int` by itself. Doing this will not modify any behavior and is safe. When replacing `np.int`, you may wish to use e.g. `np.int64` or `np.int32` to specify the precision. If you wish to review your current use, check the release note link for additional information.\n",
            "Deprecated in NumPy 1.20; for more details and guidance: https://numpy.org/devdocs/release/1.20.0-notes.html#deprecations\n"
          ]
        },
        {
          "output_type": "display_data",
          "data": {
            "text/plain": [
              "<Figure size 432x288 with 1 Axes>"
            ],
            "image/png": "[encoded data removed]"
          },
          "metadata": {
            "needs_background": "light"
          }
        }
      ]
    },
    {
      "cell_type": "code",
      "source": [
        "model = linear_model.LogisticRegression(C=1e5)#C is the inverse of the regularization factor\n",
        "full_X = np.concatenate((X_class0,X_class1),axis=0)\n",
        "full_Y = np.concatenate((Y_class0,Y_class1),axis=0)\n",
        "model.fit(full_X,full_Y)\n",
        "\n",
        "# Display the decision boundary\n",
        "#(Visualization code taken from: http://scikit-learn.org/stable/auto_examples/linear_model/plot_iris_logistic.html)\n",
        "# Plot the decision boundary. For that, we will assign a color to each\n",
        "# point in the mesh [x_min, m_max]x[y_min, y_max].\n",
        "\n",
        "h = .02  # step size in the mesh\n",
        "x_min, x_max = full_X[:, 0].min() - .5, full_X[:, 0].max() + .5\n",
        "y_min, y_max = full_X[:, 1].min() - .5, full_X[:, 1].max() + .5\n",
        "xx, yy = np.meshgrid(np.arange(x_min, x_max, h), np.arange(y_min, y_max, h))\n",
        "Z = model.predict(np.c_[xx.ravel(), yy.ravel()]) #predict for the entire mesh to find the regions for each class in the feature space\n",
        "\n",
        "# Put the result into a color plot\n",
        "Z = Z.reshape(xx.shape)\n",
        "plt.figure()\n",
        "plt.pcolormesh(xx, yy, Z, cmap=plt.cm.Paired)\n",
        "\n",
        "# Plot also the training points\n",
        "plt.scatter(X_class0[:, 0], X_class0[:, 1], c='red', edgecolors='k', cmap=plt.cm.Paired)\n",
        "plt.scatter(X_class1[:, 0], X_class1[:, 1], c='blue', edgecolors='k', cmap=plt.cm.Paired)\n",
        "plt.xlabel('Sepal length')\n",
        "plt.ylabel('Sepal width')\n",
        "plt.title('Fig 4: Visualization of decision boundary')\n",
        "plt.xlim(xx.min(), xx.max())\n",
        "plt.ylim(yy.min(), yy.max())\n",
        "\n",
        "\n",
        "plt.show()"
      ],
      "metadata": {
        "colab": {
          "base_uri": "https://localhost:8080/",
          "height": 295
        },
        "id": "2ZwKoKXxcPqQ",
        "outputId": "fc6f49df-1725-45ff-d5e6-87529e0b5a66"
      },
      "execution_count": 16,
      "outputs": [
        {
          "output_type": "display_data",
          "data": {
            "text/plain": [
              "<Figure size 432x288 with 1 Axes>"
            ],
            "image/png": "[encoded data removed]"
          },
          "metadata": {
            "needs_background": "light"
          }
        }
      ]
    },
    {
      "cell_type": "code",
      "source": [
        "validation_set_predictions = [model.predict(x_val[i].reshape((1,2)))[0] for i in range(x_val.shape[0])]\n",
        "validation_misclassification_percentage = 0\n",
        "for i in range(len(validation_set_predictions)):\n",
        "    if validation_set_predictions[i]!=y_val[i]:\n",
        "        validation_misclassification_percentage+=1\n",
        "validation_misclassification_percentage *= 100/len(y_val)\n",
        "print ('validation misclassification percentage =', validation_misclassification_percentage, '%')\n",
        "\n",
        "test_set_predictions = [model.predict(x_test[i].reshape((1,2)))[0] for i in range(x_test.shape[0])]\n",
        "\n",
        "test_misclassification_percentage = 0\n",
        "for i in range(len(test_set_predictions)):\n",
        "    if test_set_predictions[i]!=y_test[i]:\n",
        "        test_misclassification_percentage+=1\n",
        "test_misclassification_percentage *= 100/len(y_test)\n",
        "print ('test misclassification percentage =', test_misclassification_percentage, '%')"
      ],
      "metadata": {
        "colab": {
          "base_uri": "https://localhost:8080/"
        },
        "id": "2JHs9zVtfvnc",
        "outputId": "b285f30f-da08-4cce-d730-8762eb0aa534"
      },
      "execution_count": 27,
      "outputs": [
        {
          "output_type": "stream",
          "name": "stdout",
          "text": [
            "validation misclassification percentage = 0.0 %\n",
            "test misclassification percentage = 0.0 %\n"
          ]
        }
      ]
    }
  ]
}