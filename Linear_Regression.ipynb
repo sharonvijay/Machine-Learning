{
  "nbformat": 4,
  "nbformat_minor": 0,
  "metadata": {
    "colab": {
      "name": "Linear Regression.ipynb",
      "provenance": [],
      "authorship_tag": "ABX9TyP2zK7PmlgDoqDvisEQEBc1",
      "include_colab_link": true
    },
    "kernelspec": {
      "name": "python3",
      "display_name": "Python 3"
    },
    "language_info": {
      "name": "python"
    }
  },
  "cells": [
    {
      "cell_type": "markdown",
      "metadata": {
        "id": "view-in-github",
        "colab_type": "text"
      },
      "source": [
        "<a href=\"https://colab.research.google.com/github/sharonvijay/Machine-Learning/blob/main/Linear_Regression.ipynb\" target=\"_parent\"><img src=\"https://colab.research.google.com/assets/colab-badge.svg\" alt=\"Open In Colab\"/></a>"
      ]
    },
    {
      "cell_type": "markdown",
      "source": [
        "Linear Regression"
      ],
      "metadata": {
        "id": "GmUYFmbGLOpA"
      }
    },
    {
      "cell_type": "code",
      "source": [
        "import numpy as np\n",
        "from sklearn import linear_model,datasets,tree\n",
        "import matplotlib.pyplot as plt\n",
        "%matplotlib inline"
      ],
      "metadata": {
        "id": "PdSYBIv9LNzE"
      },
      "execution_count": 1,
      "outputs": []
    },
    {
      "cell_type": "code",
      "source": [
        "number_of_samples = 100\n",
        "x = np.linspace(-np.pi,np.pi,number_of_samples)\n",
        "y = 0.5*x + np.sin(x)+np.random.random(x.shape)\n",
        "plt.scatter(x,y,color='black')\n",
        "plt.xlabel('x-input features')\n",
        "plt.ylabel('y-input features')\n",
        "plt.title('Fig For Data of Linear Regression')\n",
        "plt.show()"
      ],
      "metadata": {
        "colab": {
          "base_uri": "https://localhost:8080/",
          "height": 295
        },
        "id": "MAw-voZ2Lg0c",
        "outputId": "a9711a7e-1bb7-41e3-bb58-78f405c5fb18"
      },
      "execution_count": 2,
      "outputs": [
        {
          "output_type": "display_data",
          "data": {
            "text/plain": [
              "<Figure size 432x288 with 1 Axes>"
            ],
            "image/png": "[encoded data removed]"
          },
          "metadata": {
            "needs_background": "light"
          }
        }
      ]
    },
    {
      "cell_type": "code",
      "source": [
        "print(x.shape)"
      ],
      "metadata": {
        "colab": {
          "base_uri": "https://localhost:8080/"
        },
        "id": "kO5lj0xfMeuW",
        "outputId": "2bb05d64-222b-431c-9190-366e66e32df7"
      },
      "execution_count": 3,
      "outputs": [
        {
          "output_type": "stream",
          "name": "stdout",
          "text": [
            "(100,)\n"
          ]
        }
      ]
    },
    {
      "cell_type": "code",
      "source": [
        "random_indices = np.random.permutation(number_of_samples)\n",
        "#Training set  --70%\n",
        "x_train = x[random_indices[:70]]\n",
        "y_train = y[random_indices[:70]]\n",
        "\n",
        "#Evaluation set  -- 15%\n",
        "x_eval = x[random_indices[70:85]]\n",
        "y_eval = y[random_indices[70:85]]\n",
        "\n",
        "#Testing set    -- 15%\n",
        "x_test = x[random_indices[85:]]\n",
        "y_test = y[random_indices[85:]]"
      ],
      "metadata": {
        "id": "Ar9GZbjsMiB4"
      },
      "execution_count": 4,
      "outputs": []
    },
    {
      "cell_type": "code",
      "source": [
        "plt.scatter(x_test,y_test)\n",
        "plt.show()"
      ],
      "metadata": {
        "colab": {
          "base_uri": "https://localhost:8080/",
          "height": 265
        },
        "id": "FZrBfUDQMtXI",
        "outputId": "1f4d93a5-4266-4d98-b11e-03800a235a27"
      },
      "execution_count": 5,
      "outputs": [
        {
          "output_type": "display_data",
          "data": {
            "text/plain": [
              "<Figure size 432x288 with 1 Axes>"
            ],
            "image/png": "[encoded data removed]"
          },
          "metadata": {
            "needs_background": "light"
          }
        }
      ]
    },
    {
      "cell_type": "code",
      "source": [
        "plt.scatter(x_train,y_train)\n",
        "plt.show()"
      ],
      "metadata": {
        "colab": {
          "base_uri": "https://localhost:8080/",
          "height": 267
        },
        "id": "88F8v_SEMwMJ",
        "outputId": "40bedb6a-db6d-489a-f752-36337e7eaa06"
      },
      "execution_count": 6,
      "outputs": [
        {
          "output_type": "display_data",
          "data": {
            "text/plain": [
              "<Figure size 432x288 with 1 Axes>"
            ],
            "image/png": "[encoded data removed]"
          },
          "metadata": {
            "needs_background": "light"
          }
        }
      ]
    },
    {
      "cell_type": "code",
      "source": [
        "plt.scatter(x_eval,y_eval)\n",
        "plt.show()"
      ],
      "metadata": {
        "colab": {
          "base_uri": "https://localhost:8080/",
          "height": 265
        },
        "id": "ywrFQYNHMzRJ",
        "outputId": "6029331b-e207-4fbc-caf5-145a23b4bfc8"
      },
      "execution_count": 7,
      "outputs": [
        {
          "output_type": "display_data",
          "data": {
            "text/plain": [
              "<Figure size 432x288 with 1 Axes>"
            ],
            "image/png": "[encoded data removed]"
          },
          "metadata": {
            "needs_background": "light"
          }
        }
      ]
    },
    {
      "cell_type": "code",
      "source": [
        "random_indices"
      ],
      "metadata": {
        "colab": {
          "base_uri": "https://localhost:8080/"
        },
        "id": "fxDUj8HyM2Tz",
        "outputId": "6b7c3ec3-0f9e-41fa-c039-5f80f57b8666"
      },
      "execution_count": 8,
      "outputs": [
        {
          "output_type": "execute_result",
          "data": {
            "text/plain": [
              "array([83, 89, 95,  9, 61, 38, 31, 20, 92,  1, 99, 97, 91, 93, 67, 65, 73,\n",
              "       96, 74, 28, 87, 14, 41, 85,  3, 43, 69, 30, 26, 58, 13, 68, 36, 98,\n",
              "       35, 80, 22, 60, 53, 66, 71, 76, 72, 45, 21, 49, 54, 40, 37, 64, 84,\n",
              "       86, 46, 47, 82,  0, 12, 55, 81,  4, 15,  6, 48, 94, 34, 75, 17, 27,\n",
              "       44,  7, 50,  8, 42, 56, 19, 70, 77,  5, 11, 78, 10,  2, 52, 90, 79,\n",
              "       57, 32, 33, 29, 62, 18, 24, 23, 63, 88, 25, 39, 59, 16, 51])"
            ]
          },
          "metadata": {},
          "execution_count": 8
        }
      ]
    },
    {
      "cell_type": "code",
      "source": [
        "model = linear_model.LinearRegression()\n",
        "x_train_for_fit = np.matrix(x_train.reshape(len(x_train),1))\n",
        "y_train_for_fit = np.matrix(y_train.reshape(len(y_train),1))\n",
        "\n",
        "\n",
        "model.fit(x_train_for_fit,y_train_for_fit)\n",
        "\n",
        "\n",
        "plt.scatter(x_train,y_train,color=\"black\")\n",
        "plt.plot(x.reshape(len(x),1),model.predict(x.reshape(len(x),1)))\n",
        "plt.xlabel('x-input feature')\n",
        "plt.ylabel('y-target values')\n",
        "plt.title('Fig 2: Line fit to training data')\n",
        "plt.show()"
      ],
      "metadata": {
        "colab": {
          "base_uri": "https://localhost:8080/",
          "height": 384
        },
        "id": "VimY6eBhM7Iu",
        "outputId": "6834ea64-44e6-406b-edec-d43c1bcb83cd"
      },
      "execution_count": 9,
      "outputs": [
        {
          "output_type": "stream",
          "name": "stderr",
          "text": [
            "/usr/local/lib/python3.7/dist-packages/sklearn/utils/validation.py:598: FutureWarning: np.matrix usage is deprecated in 1.0 and will raise a TypeError in 1.2. Please convert to a numpy array with np.asarray. For more information see: https://numpy.org/doc/stable/reference/generated/numpy.matrix.html\n",
            "  FutureWarning,\n",
            "/usr/local/lib/python3.7/dist-packages/sklearn/utils/validation.py:598: FutureWarning: np.matrix usage is deprecated in 1.0 and will raise a TypeError in 1.2. Please convert to a numpy array with np.asarray. For more information see: https://numpy.org/doc/stable/reference/generated/numpy.matrix.html\n",
            "  FutureWarning,\n"
          ]
        },
        {
          "output_type": "display_data",
          "data": {
            "text/plain": [
              "<Figure size 432x288 with 1 Axes>"
            ],
            "image/png": "[encoded data removed]"
          },
          "metadata": {
            "needs_background": "light"
          }
        }
      ]
    },
    {
      "cell_type": "code",
      "source": [
        "mean_val_error = np.mean((y_eval - model.predict(x_eval.reshape(len(x_eval),1)))**2)"
      ],
      "metadata": {
        "id": "w6nTuHreM82I"
      },
      "execution_count": 10,
      "outputs": []
    },
    {
      "cell_type": "code",
      "source": [
        "mean_val_error"
      ],
      "metadata": {
        "colab": {
          "base_uri": "https://localhost:8080/"
        },
        "id": "3R_4WBGOM_04",
        "outputId": "fdd7da55-4a53-45cf-d502-78e18dca6a8d"
      },
      "execution_count": 11,
      "outputs": [
        {
          "output_type": "execute_result",
          "data": {
            "text/plain": [
              "5.006017877098326"
            ]
          },
          "metadata": {},
          "execution_count": 11
        }
      ]
    },
    {
      "cell_type": "code",
      "source": [
        "mean_test_error = np.mean((y_test - model.predict(x_test.reshape(len(x_test),1)))**2)"
      ],
      "metadata": {
        "id": "F-O5vrEsNC5a"
      },
      "execution_count": 12,
      "outputs": []
    },
    {
      "cell_type": "code",
      "source": [
        "mean_test_error"
      ],
      "metadata": {
        "colab": {
          "base_uri": "https://localhost:8080/"
        },
        "id": "tZlfYR3SNGIQ",
        "outputId": "68349c54-9975-4bb9-a01a-fafda8908261"
      },
      "execution_count": 13,
      "outputs": [
        {
          "output_type": "execute_result",
          "data": {
            "text/plain": [
              "3.02222966518149"
            ]
          },
          "metadata": {},
          "execution_count": 13
        }
      ]
    },
    {
      "cell_type": "code",
      "source": [
        "mean_val_error = np.mean( (y_eval - model.predict(x_eval.reshape(len(x_eval),1)))**2 )\n",
        "mean_test_error = np.mean( (y_test - model.predict(x_test.reshape(len(x_test),1)))**2 )\n",
        "\n",
        "print ('Validation MSE:', mean_val_error, '\\nTest MSE: ', mean_test_error)"
      ],
      "metadata": {
        "colab": {
          "base_uri": "https://localhost:8080/"
        },
        "id": "oLlQmtcENHP4",
        "outputId": "10b2fcdd-8eda-4c0e-a8f0-87bacf556ff7"
      },
      "execution_count": 14,
      "outputs": [
        {
          "output_type": "stream",
          "name": "stdout",
          "text": [
            "Validation MSE: 5.006017877098326 \n",
            "Test MSE:  3.02222966518149\n"
          ]
        }
      ]
    }
  ]
}